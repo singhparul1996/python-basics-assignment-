{
  "nbformat": 4,
  "nbformat_minor": 0,
  "metadata": {
    "colab": {
      "provenance": []
    },
    "kernelspec": {
      "name": "python3",
      "display_name": "Python 3"
    },
    "language_info": {
      "name": "python"
    }
  },
  "cells": [
    {
      "cell_type": "markdown",
      "source": [
        "# Python Basics\n",
        "  "
      ],
      "metadata": {
        "id": "FiDmoiWj6LuZ"
      }
    },
    {
      "cell_type": "markdown",
      "source": [
        "1.What is Python, and why is it popular ?\n",
        "   -Python is a Programming language or a Formal language for creating instruction for a computer to follow and their is a set of rules and sybols that define the process of writing a computer programms\n",
        "   its is used in software prograamms, embedded devices , robotics and chat gpt\n",
        "  python is popular because\n",
        "  1 widely used in the data industry\n",
        "  2 a lot of libraries in python where all optimized and well writen code are already kept\n",
        "  3 frontend backend , data analysis all framework avilable in python\n",
        "   \n",
        "\n",
        "   \n",
        "      "
      ],
      "metadata": {
        "id": "4U3mTJsY6j7v"
      }
    },
    {
      "cell_type": "markdown",
      "source": [
        "2.What is an interpreter in Python\u001a\n",
        "  - A Python interpreter is a program that reads and executes Python code line by line. It translates the code into machine-readable bytecode and then executes it. Python is an interpreted language, which means that the interpreter reads and executes the code directly. The interpreter allows you to see the results of your code immediately after running it.\n",
        "  Network engineers use the Python interpreter to execute scripts when testing basic features."
      ],
      "metadata": {
        "id": "VmE35-x3-7dC"
      }
    },
    {
      "cell_type": "markdown",
      "source": [
        "3.What are pre-defined keywords in Python\u001a\n",
        "  -In python keywords are pre-defined words or reserved words that hold the specific purpose in python programming\n",
        "  * Keywords are case-sensitive.\n",
        "  *All keywords are in lowercase, except for \"True\" and \"False\".\n",
        "  *Keywords cannot be used as identifiers, such as variable names, function\n",
        "  names, or other identifiers."
      ],
      "metadata": {
        "id": "aFtcBf07_-Jy"
      }
    },
    {
      "cell_type": "markdown",
      "source": [
        "4.Can keywords be used as variable names\u001a\n",
        "  -No, keywords cannot be used as variable names because they have special meanings and purposes in the programming language. Keywords are also known as reserved words.\n",
        "  In Python, keywords cannot be used as variable names, function names, class names, or any other identifiers.\n",
        "  A variable start with alphabate , underscore and characters it should not be keywords  "
      ],
      "metadata": {
        "id": "LpWwFcpXCQ8E"
      }
    },
    {
      "cell_type": "markdown",
      "source": [
        "5.What is mutability in Python\u001a\n",
        "  -In paython objects and container whose state or value can be changed after they are created are called as mutable also called as item assignment\n",
        "  list is the type of mutable object\n",
        "  whenever you are able to assign a value to another value after the creation that is called mutable"
      ],
      "metadata": {
        "id": "Db6yZTuMFAll"
      }
    },
    {
      "cell_type": "markdown",
      "source": [
        "6.Why are lists mutable, but tuples are immutable\u001a\n",
        "  -Unlike strings, lists are mutable because you can change the order of items in a list or reassign an item in a list. When the bracket operator appears on the left side of an assignment, it identifies the element of the list that will be assigned.\n",
        "  Yes, tuples are immutable in Python  because meaning that once created their elements cannot be changed, added, or removed.\n",
        "  Tuples and lists are the same in every way except two: tuples use parentheses instead of square brackets, and the items in tuples cannot be modified (but the items in lists can be modified). We often call lists mutable (meaning they can be changed) and tuples immutable (meaning they cannot be changed).\n",
        "  For an example of trying to change values in lists and tuples, look at the following code:\n",
        ">>> listVal = [1, 1, 2, 3, 5, 8]\n",
        ">>> tupleVal = (1, 1, 2, 3, 5, 8)\n",
        ">>> listVal[4] = 'hello!'\n",
        ">>> listVal\n",
        "[1, 1, 2, 3, 'hello!', 8]\n",
        ">>> tupleVal[4] = 'hello!'\n",
        "Traceback (most recent call last):\n",
        "    File \"<stdin>\", line 1, in <module>\n",
        "TypeError: 'tuple' object does not support item assignment\n",
        ">>> tupleVal\n",
        "(1, 1, 2, 3, 5, 8)\n",
        ">>> tupleVal[4]\n",
        "5"
      ],
      "metadata": {
        "id": "4ri950olt-Ux"
      }
    },
    {
      "cell_type": "markdown",
      "source": [
        "7.What is the difference between “==” and “is” operators in Python\u001a\n",
        " - In Python, == and is operators are both used for comparison but they serve different purposes. The == operator checks for equality of values which means it evaluates whether the values of two objects are the same. On the other hand, is operator checks for identity, meaning it determines whether two variables point to the same object in memory\n",
        "#== Operator\n",
        " == returns True if two objects, have the same value and returns False if both have different value.\n",
        " x = [1, 2, 3]\n",
        "y = [1, 2, 3]\n",
        "z = x\n",
        "\n",
        "# Equality comparison (==)\n",
        "if x == y:\n",
        "    print(\"True\")\n",
        "else:\n",
        "    print(\"False\")\n",
        "output is true\n",
        "because x==y\n",
        "#‘is’ Operator\n",
        "x = [1, 2, 3]\n",
        "y = [1, 2, 3]\n",
        "z = x\n",
        "\n",
        "\n",
        "# Case 1: Identity comparison (is)\n",
        "if x is y:\n",
        "    print(\"True\")\n",
        "else:\n",
        "    print(\"False\")\n",
        "\n",
        "# Case 2: Comparing references (is)\n",
        "if x is z:\n",
        "    print(\"True\")\n",
        "else:\n",
        "    print(\"False\")\n",
        "Explanation:\n",
        "\n",
        "Case 1: x is y checks if x and y refer to the same object in memory. Since x and y are two separate list objects, the output will be False.\n",
        "Case 2: x is z checks if x and z refer to the same object. Since z is assigned to x, they are the same object, and the output will be True."
      ],
      "metadata": {
        "id": "6jSvMlB0yWx6"
      }
    },
    {
      "cell_type": "markdown",
      "source": [
        "8.What are logical operators in Python\u001a\n",
        "  -Logical operators in Python are keywords that evaluate multiple conditions in a single expression. They are used to combine conditional statements.\n",
        "  Logical operators in Python:\n",
        "  and: Returns True if both statements are true\n",
        "  or: Returns True if either statement is true\n",
        "  not: Reverses a result, so if something is True, not turns it False\n",
        "  # Example: Logical Operators (AND, OR, NOT) with generic variables\n",
        "   a, b, c = True, False, True\n",
        "  # AND: Both conditions must be True\n",
        "  if a and c:\n",
        "     print(\"Both a and c are True (AND condition).\")\n",
        "     # OR: At least one condition must be True\n",
        "  if b or c:\n",
        "     print(\"Either b or c is True (OR condition).\")\n",
        "     # NOT: Reverses the condition\n",
        "  if not b:\n",
        "     print(\"b is False (NOT condition).\")"
      ],
      "metadata": {
        "id": "natyehcG56BH"
      }
    },
    {
      "cell_type": "markdown",
      "source": [
        "9.What is type casting in Python\u001a\n",
        "  -The proccess of changing a data type or value/object is called type casting.\n",
        "   Type Casting is the method to convert the Python variable datatype into a certain data type in order to perform the required operation by users.\n",
        "   using the concept of type casting we can convert the string to integer\n",
        "   There can be two types of Type Casting in Python\n",
        "   # example:\n",
        "   # a in to int\n",
        "  a=5\n",
        "  print(type(a))\n",
        "   \n",
        "  output  int\n",
        "  \n",
        "  # b in to float\n",
        "  b=5.6\n",
        "  print(type(b))\n",
        "\n",
        "  output float\n"
      ],
      "metadata": {
        "id": "7o7M4uMm8Dc_"
      }
    },
    {
      "cell_type": "markdown",
      "source": [
        "10.What is the difference between implicit and explicit type casting\u001a\n",
        "  - there is two type of type casting\n",
        "   # implicit\n",
        "   # explicit\n",
        "\n",
        " # Implicit Type Conversion in Python\n",
        "\n",
        "   In this, method, Python converts the datatype into another datatype automatically. Users don’t have to involve in this process.\n",
        "  #implicit type Casting\n",
        "  # Python automatically converts\n",
        "  # a to int\n",
        "  a = 7\n",
        "  print(type(a))\n",
        "  output  int\n",
        "\n",
        "  # Python automatically converts\n",
        "  # b to float\n",
        "  b = 3.0\n",
        "  print(type(b))\n",
        "  output float\n",
        "\n",
        "  #Explicit Type Conversion in Python\n",
        "  In this method, Python needs user involvement to convert the variable data type into the required data type.\n",
        "  Mainly type casting can be done with these data type functions:\n",
        "   int, float and string\n",
        "\n",
        "   # Python program to demonstrate\n",
        "# type Casting\n",
        "\n",
        "# int variable\n",
        "a = 5\n",
        "\n",
        "# typecast to float\n",
        "n = float(a)\n",
        "\n",
        "print(n)\n",
        "print(type(n))\n",
        "\n",
        "output   0.5\n",
        "float"
      ],
      "metadata": {
        "id": "jl3w8xSTaeqY"
      }
    },
    {
      "cell_type": "markdown",
      "source": [
        "11.What is the purpose of conditional statements in Python\u001a\n",
        "   -In python the purpose of conditional statement help to control the flow of a program\n",
        "   flow control in python referse to the mechanism that govern the order in which statement and instruction are executed this is crucial for implementaion logic in your program\n",
        "   Conditional statements in Python are used to execute certain blocks of code based on specific conditions. These statements help control the flow of a program, making it behave differently in different situations.\n",
        "    * if\n",
        "    * if else\n",
        "    * if elif (elseif)else\n",
        "    * nested if else\n",
        "\n",
        "   # if statement\n",
        "   # syntax\n",
        "   # if condition true:\n",
        "   #    block of code will be executed\n",
        "\n",
        "   # if statement  \n",
        "     weather = \" rainy\"\n",
        "     if weather ==\"rainy\"\n",
        "         print(\" i will not play cricket\")\n",
        "  #output  i will not play cricket\n",
        "   # if else\n",
        "  In real life if one condition is not fulfilled you will do somthing else\n",
        "   # example\n",
        "   age =21\n",
        "   if age >= 18:\n",
        "       print (\" you will be served alcohole \")\n",
        "   else:\n",
        "       print(\" get out of the bar\")\n",
        "\n",
        "  #output  you will be served alcohole\n",
        "\n",
        "  #  if elif (elseif)else\n",
        "  in real life we have multiple codition\n",
        "  # example\n",
        "  a=10\n",
        "  if a >100:\n",
        "     print (this block will be executed if a is greaterthan 100\")\n",
        "  elif a < 100:\n",
        "     print (\" this block will be executed if a is lessthan 100\")\n",
        "  else:\n",
        "     print(\" the number is euale to 100\")\n",
        "\n",
        "  #output  this block will be executed if a is less than 100\n",
        "\n",
        "  # Nested if else\n",
        "  there is multiple if else inside of if else\n",
        "  # example\n",
        "   x=1\n",
        "   y=6\n",
        "   if x>5:\n",
        "     if y>5:\n",
        "      print(\"both x and y is greater than 5\")\n",
        "   else:\n",
        "       print(\"both x and y is less than 5\")\n",
        "  else:\n",
        "       print(\"both x  is not greater than 5\")\n",
        "  \n",
        "  #output\n",
        "   x is not greater than 5\n",
        "\n",
        "   \n",
        "\n"
      ],
      "metadata": {
        "id": "9Cz3Gh_Pt7DJ"
      }
    },
    {
      "cell_type": "markdown",
      "source": [
        "12. How does the elif statement work\u001a\n",
        "   - The “elif” keyword in Python, stands for “else if”. It can be used in conditional statements to check for multiple conditions. For example, if the first condition is false, it moves on to the next “elif” statement to check if that condition is true. If none of the conditions are true, the code will execute the else statement.\n",
        "  #  if elif (elseif)else\n",
        "  in real life we have multiple codition\n",
        "  # example\n",
        "  a=10\n",
        "  if a >100:\n",
        "     print (this block will be executed if a is greaterthan 100\")\n",
        "  elif a < 100:\n",
        "     print (\" this block will be executed if a is lessthan 100\")\n",
        "  else:\n",
        "     print(\" the number is euale to 100\")\n",
        "\n",
        "  #output  this block will be executed if a is less than 100"
      ],
      "metadata": {
        "id": "HHQm2WcStE9a"
      }
    },
    {
      "cell_type": "markdown",
      "source": [
        "13.What is the difference between for and while loops\u001a\n",
        "  -Both for loops and while loops are control flow structures in programming that allow you to repeatedly execute a block of code. However, they differ in their syntax and use cases.\n",
        "  #For loop in programing\n",
        "  The for loop is used when you know in advance how many times you want to execute the block of code.\n",
        "  It iterates over a sequence (e.g., a list, tuple, string, or range) and executes the block of code for each item in the sequence\n",
        "  The loop variable (variable) takes the value of each item in the sequence during each iteration.\n",
        "  #for loops >>iterate over a sequence of elements >> strings, list\n",
        "for i in \"pwskills\":\n",
        "    print(i)\n",
        "  # output\n",
        "p\n",
        "w\n",
        "s\n",
        "k\n",
        "i\n",
        "l\n",
        "l\n",
        "s\n",
        "# While loop in programming\n",
        "The while loop is used when you don't know in advance how many times you want to execute the block of code. It continues to execute as long as the specified condition is true.\n",
        "It's important to make sure that the condition eventually becomes false; otherwise, the loop will run indefinitely, resulting in an infinite loop.\n",
        "#while>>repeatedly executed a block of code untill a condition is met\n",
        "n = 7\n",
        "i = 1\n",
        "while i < n:\n",
        "    print(i)\n",
        "    i = i+1\n",
        "# output\n",
        "1\n",
        "2\n",
        "3\n",
        "4\n",
        "5\n",
        "6\n",
        "   "
      ],
      "metadata": {
        "id": "d49T3ZiJuLWS"
      }
    },
    {
      "cell_type": "markdown",
      "source": [
        "14. Describe a scenario where a while loop is more suitable than a for loop.\n",
        "  -In contrast to a 'for' loop, which is generally used when the num\n",
        "  iterations is known beforehand, a 'while' loop is ideal for situations where the number of iterations is not predetermined and depends on some dynamic condition."
      ],
      "metadata": {
        "id": "cRHfsLRnRBPT"
      }
    },
    {
      "cell_type": "code",
      "source": [
        "#  Write a Python program to print \"Hello, World!_\n",
        "print(\"hello world\")\n"
      ],
      "metadata": {
        "colab": {
          "base_uri": "https://localhost:8080/"
        },
        "id": "5RfZ-zYUB2Wh",
        "outputId": "bdc0867e-9fdd-4a90-ef74-9da28e342aa7"
      },
      "execution_count": null,
      "outputs": [
        {
          "output_type": "stream",
          "name": "stdout",
          "text": [
            "hello world\n"
          ]
        }
      ]
    },
    {
      "cell_type": "code",
      "execution_count": null,
      "metadata": {
        "id": "YGYzNftByw5l",
        "colab": {
          "base_uri": "https://localhost:8080/"
        },
        "outputId": "336fad13-d628-4a6e-cf36-2c6581534464"
      },
      "outputs": [
        {
          "output_type": "stream",
          "name": "stdout",
          "text": [
            "Enter your name:parul\n",
            "Enter your age:27\n",
            "my name is paruland i am 27 year old.\n"
          ]
        }
      ],
      "source": [
        "#Write a Python program that displays your name and age\n",
        "name=input(\"Enter your name:\")\n",
        "age=input(\"Enter your age:\")\n",
        "print(f\"my name is {name}and i am {age} year old.\")\n"
      ]
    },
    {
      "cell_type": "code",
      "source": [
        "# Write code to print all the pre-defined keywords in Python using the keyword library\n",
        "def print_keywords():\n",
        "    print(\"python keywords:\")\n",
        "    print(keywords.kwlist)"
      ],
      "metadata": {
        "id": "So6qOXtCEeVs"
      },
      "execution_count": null,
      "outputs": []
    },
    {
      "cell_type": "code",
      "source": [
        "#Write a program that checks if a given word is a Python keyword\n",
        "def check_keyword(word):\n",
        "    if keyword.iskeyword(word):\n",
        "        print(f\"'{word}' is a Python keyword.\")\n",
        "    else:\n",
        "        print(f\"'{word}' is not a Python keyword.\")"
      ],
      "metadata": {
        "id": "wbGaYt3vEey-"
      },
      "execution_count": null,
      "outputs": []
    },
    {
      "cell_type": "code",
      "source": [
        "#Create a list and tuple in Python, and demonstrate how attempting to change an element works differently for each\n",
        "def demonstrate_list_and_tuple():\n",
        " my_list = [1, 2, 3]\n",
        " my_tuple = (1, 2, 3)\n",
        " print(\"Original list:\", my_list)\n",
        " my_list[0] = 99\n",
        " print(\"Modified list:\", my_list)\n",
        "\n",
        " print(\"Original tuple:\", my_tuple)\n",
        " try:\n",
        "    my_tuple[0] = 99\n",
        " except TypeError as e:\n",
        "    print(\"Error when trying to modify tuple:\", e)\n"
      ],
      "metadata": {
        "id": "gkRaBlz9EfJd"
      },
      "execution_count": null,
      "outputs": []
    },
    {
      "cell_type": "code",
      "source": [
        "#Write a function to demonstrate the behavior of mutable and immutable arguments\n",
        "def demonstrate_mutable_and_immutablity():\n",
        "    my_list = [1,2,3,true,ajay]# if i want to change ajay with vijay then what will be do\n",
        "    my_list[4]=\"bijay\"\n",
        "    print(\"Modified list:\", my_list)\n",
        "    mutable_list = (0, 1, 2, 3)\n",
        "    mutable_list[0] = 4\n",
        "    print(mutable_list)\n"
      ],
      "metadata": {
        "id": "IEjOrqYFEfbs"
      },
      "execution_count": null,
      "outputs": []
    },
    {
      "cell_type": "code",
      "source": [
        "#Write a program to demonstrate the use of logical operators\n",
        "a, b, c = True, False, True\n",
        "\n",
        "# AND: Both conditions must be True\n",
        "if a and c:\n",
        "    print(\"Both a and c are True (AND condition).\")\n",
        "\n",
        "# OR: At least one condition must be True\n",
        "if b or c:\n",
        "    print(\"Either b or c is True (OR condition).\")\n",
        "\n",
        "# NOT: Reverses the condition\n",
        "if not b:\n",
        "    print(\"b is False (NOT condition).\")"
      ],
      "metadata": {
        "id": "EQgklUl2Ef_W",
        "colab": {
          "base_uri": "https://localhost:8080/"
        },
        "outputId": "d2e1706a-b3cf-4955-b74c-16f4efb4729d"
      },
      "execution_count": null,
      "outputs": [
        {
          "output_type": "stream",
          "name": "stdout",
          "text": [
            "Both a and c are True (AND condition).\n",
            "Either b or c is True (OR condition).\n",
            "b is False (NOT condition).\n"
          ]
        }
      ]
    },
    {
      "cell_type": "code",
      "source": [
        "# Write a Python program to convert user input from string to integer, float, and boolean types\n",
        "# string to integer\n",
        "a=\"2\"\n",
        "print(type(int(a)))\n",
        "#float to integer\n",
        "a=3.5\n",
        "print(type(int(a)))\n",
        "#integer to float\n",
        "a=2\n",
        "print(type(float(a)))\n",
        "#string to boolean\n",
        "a=\"2\"\n",
        "print(type(bool(a)))\n",
        "\n"
      ],
      "metadata": {
        "id": "gSQS67ZlE_Ie",
        "colab": {
          "base_uri": "https://localhost:8080/"
        },
        "outputId": "293f378a-b79b-4858-eab7-4dd63a0ee016"
      },
      "execution_count": null,
      "outputs": [
        {
          "output_type": "stream",
          "name": "stdout",
          "text": [
            "<class 'int'>\n",
            "<class 'int'>\n",
            "<class 'float'>\n",
            "<class 'bool'>\n"
          ]
        }
      ]
    },
    {
      "cell_type": "code",
      "source": [
        "# Write a program that checks if a number is positive, negative, or zero.\n",
        "num = float(input(\"Enter a number: \"))\n",
        "if num > 0:\n",
        "   print(\"Positive number\")\n",
        "elif num == 0:\n",
        "   print(\"Zero\")\n",
        "else:\n",
        "   print(\"Negative number\")\n",
        "\n"
      ],
      "metadata": {
        "id": "KXMFYRitE_Bf",
        "colab": {
          "base_uri": "https://localhost:8080/"
        },
        "outputId": "517d45bf-8ade-40fa-bd36-b71107d5121c"
      },
      "execution_count": null,
      "outputs": [
        {
          "output_type": "stream",
          "name": "stdout",
          "text": [
            "Enter a number: 5\n",
            "Positive number\n"
          ]
        }
      ]
    },
    {
      "cell_type": "code",
      "source": [
        "# Write a for loop to print numbers from 1 to 100\n",
        "a= [\"1,2,3......,100\"]\n",
        "for i in a:\n",
        "  print(i)"
      ],
      "metadata": {
        "id": "QTfEIUw-E-9u",
        "colab": {
          "base_uri": "https://localhost:8080/"
        },
        "outputId": "fd8bf8d3-10ac-4959-d9ae-ce11c55a3ee2"
      },
      "execution_count": null,
      "outputs": [
        {
          "output_type": "stream",
          "name": "stdout",
          "text": [
            "1,2,3......,100\n"
          ]
        }
      ]
    },
    {
      "cell_type": "code",
      "source": [
        "#Write a Python program to find the sum of all even numbers between 1 and 50.\n",
        "for i in range(0,50):\n",
        "  if i%2==0:\n",
        "    product=sum+i\n",
        "    print(f\"{sum}+{i}={product}\")\n"
      ],
      "metadata": {
        "id": "iLyE3jTKE-6G",
        "colab": {
          "base_uri": "https://localhost:8080/"
        },
        "outputId": "4486549f-bab5-447a-82d6-201750b455ae"
      },
      "execution_count": null,
      "outputs": [
        {
          "output_type": "stream",
          "name": "stdout",
          "text": [
            "48+0=48\n",
            "48+2=50\n",
            "48+4=52\n",
            "48+6=54\n",
            "48+8=56\n",
            "48+10=58\n",
            "48+12=60\n",
            "48+14=62\n",
            "48+16=64\n",
            "48+18=66\n",
            "48+20=68\n",
            "48+22=70\n",
            "48+24=72\n",
            "48+26=74\n",
            "48+28=76\n",
            "48+30=78\n",
            "48+32=80\n",
            "48+34=82\n",
            "48+36=84\n",
            "48+38=86\n",
            "48+40=88\n",
            "48+42=90\n",
            "48+44=92\n",
            "48+46=94\n",
            "48+48=96\n"
          ]
        }
      ]
    },
    {
      "cell_type": "code",
      "source": [
        "#Write a program to reverse a string using a while loop.\n",
        "count = 5\n",
        "while count > 0:\n",
        "    print(count)\n",
        "    count = count - 1\n"
      ],
      "metadata": {
        "id": "xUWthH3mE-10",
        "colab": {
          "base_uri": "https://localhost:8080/"
        },
        "outputId": "e5b46b66-5568-4d67-835f-04ac095a94f5"
      },
      "execution_count": null,
      "outputs": [
        {
          "output_type": "stream",
          "name": "stdout",
          "text": [
            "5\n",
            "4\n",
            "3\n",
            "2\n",
            "1\n"
          ]
        }
      ]
    },
    {
      "cell_type": "code",
      "source": [
        "# Write a Python program to calculate the factorial of a number provided by the user using a while loop\n",
        "#Define a factorial and loop variable\n",
        "fact = 1\n",
        "i = 1\n",
        "\n",
        "# To take input from the user\n",
        "num = int(input(\"Enter a number: \"))\n",
        "\n",
        "# check if the number is negative or positive\n",
        "if num < 0:\n",
        "    print(\"Sorry, factorial does not exist for negative numbers\")\n",
        "else:\n",
        "    while i <= num:\n",
        "        fact = fact*i\n",
        "        i = i + 1\n",
        "    print(\"The factorial of\", num, \"is\", fact)"
      ],
      "metadata": {
        "id": "SYVEXk1vE-xR",
        "colab": {
          "base_uri": "https://localhost:8080/"
        },
        "outputId": "a47b5443-8633-4ac4-969a-d488fd86f2d5"
      },
      "execution_count": null,
      "outputs": [
        {
          "output_type": "stream",
          "name": "stdout",
          "text": [
            "Enter a number: 5\n",
            "The factorial of 5 is 120\n"
          ]
        }
      ]
    }
  ]
}